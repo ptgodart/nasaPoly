{
 "cells": [
  {
   "cell_type": "markdown",
   "metadata": {},
   "source": [
    "# nasaPoly Examples"
   ]
  },
  {
   "cell_type": "code",
   "execution_count": 1,
   "metadata": {},
   "outputs": [
    {
     "name": "stdout",
     "output_type": "stream",
     "text": [
      "\n",
      "Species Name: H2O(L)\n",
      "Data Source: COX ET.AL.,CODATA KEY VALUES FOR THERMODYNAMICS.1989.\n",
      "Molecular wt: 18.01528 g/mol\n",
      "Valid temperature range(s): (273.15, 600.0)\n",
      "\n"
     ]
    }
   ],
   "source": [
    "import nasaPoly\n",
    "\n",
    "Water = nasaPoly.Species('H2O(L)')"
   ]
  },
  {
   "cell_type": "code",
   "execution_count": 2,
   "metadata": {},
   "outputs": [
    {
     "data": {
      "application/vnd.jupyter.widget-view+json": {
       "model_id": "df209e78cfff4b8d903c7874089d70b0",
       "version_major": 2,
       "version_minor": 0
      },
      "text/plain": [
       "interactive(children=(IntSlider(value=300, description='T', max=650, min=200, step=10), Output()), _dom_classe…"
      ]
     },
     "metadata": {},
     "output_type": "display_data"
    }
   ],
   "source": [
    "from ipywidgets import interact\n",
    "\n",
    "@interact(T=(200,650,10))\n",
    "def State(T=300):\n",
    "    Water.printState(T)"
   ]
  },
  {
   "cell_type": "markdown",
   "metadata": {},
   "source": [
    "We can double check that we can recover h_0 by integrating cp_0 dT"
   ]
  },
  {
   "cell_type": "code",
   "execution_count": 3,
   "metadata": {},
   "outputs": [
    {
     "name": "stdout",
     "output_type": "stream",
     "text": [
      "7709.366483074944\n",
      "7709.366483071062\n"
     ]
    }
   ],
   "source": [
    "from scipy.integrate import quad\n",
    "\n",
    "T_test = 400 # K\n",
    "\n",
    "h_0_integration = quad(Water.cp_0, 298.15, T_test)[0]\n",
    "print(h_0_integration)\n",
    "\n",
    "h_0_nasa = Water.h_0(T_test) - Water.h_0(298.15)\n",
    "print(h_0_nasa)"
   ]
  },
  {
   "cell_type": "markdown",
   "metadata": {},
   "source": [
    "Some plotting:"
   ]
  },
  {
   "cell_type": "code",
   "execution_count": 9,
   "metadata": {},
   "outputs": [
    {
     "name": "stdout",
     "output_type": "stream",
     "text": [
      "\n",
      "Species Name: H2O\n",
      "Data Source: CODATA 1989. JRNBS 1987 v92 p35. TRC tuv-25 10/88.\n",
      "Molecular wt: 18.01528 g/mol\n",
      "Valid temperature range(s): (200.0, 1000.0), (1000.0, 6000.0)\n",
      "\n",
      "\n",
      "Species Name: H2\n",
      "Data Source: Hydrogen. TPIS, v1, pt2, 1978, pp31-32.\n",
      "Molecular wt: 2.01588 g/mol\n",
      "Valid temperature range(s): (200.0, 1000.0), (1000.0, 6000.0), (6000.0, 20000.0)\n",
      "\n",
      "\n",
      "Species Name: CO2\n",
      "Data Source: Props & Hf298: TPIS v2,pt1,1991,p27.\n",
      "Molecular wt: 44.0095 g/mol\n",
      "Valid temperature range(s): (200.0, 1000.0), (1000.0, 6000.0), (6000.0, 20000.0)\n",
      "\n",
      "\n",
      "Species Name: N2\n",
      "Data Source: TPIS 1978 v1 pt2 p207.\n",
      "Molecular wt: 28.01348 g/mol\n",
      "Valid temperature range(s): (200.0, 1000.0), (1000.0, 6000.0), (6000.0, 20000.0)\n",
      "\n"
     ]
    },
    {
     "data": {
      "image/png": "[encoded data removed]",
      "text/plain": [
       "<Figure size 432x288 with 1 Axes>"
      ]
     },
     "metadata": {
      "needs_background": "light"
     },
     "output_type": "display_data"
    }
   ],
   "source": [
    "import matplotlib.pyplot as plt\n",
    "import numpy as np\n",
    "\n",
    "Steam = nasaPoly.Species('H2O')\n",
    "H2 = nasaPoly.Species('H2')\n",
    "CO2 = nasaPoly.Species('CO2')\n",
    "N2 = nasaPoly.Species('N2')\n",
    "\n",
    "T_range = np.linspace(200, 2000, 250)\n",
    "plt.plot(T_range, [Steam.cp_0(T) for T in T_range], label='$Steam$')\n",
    "plt.plot(T_range, [H2.cp_0(T) for T in T_range], label='$H_2$')\n",
    "plt.plot(T_range, [CO2.cp_0(T) for T in T_range], label='$CO_2$')\n",
    "plt.plot(T_range, [N2.cp_0(T) for T in T_range], label='$N_2$')\n",
    "plt.legend()\n",
    "plt.xlabel('$T$ [K]')\n",
    "plt.ylabel('$c_{p}^{\\circ}$ [J/mol-K]')\n",
    "plt.show()"
   ]
  }
 ],
 "metadata": {
  "kernelspec": {
   "display_name": "Python 3",
   "language": "python",
   "name": "python3"
  },
  "language_info": {
   "codemirror_mode": {
    "name": "ipython",
    "version": 3
   },
   "file_extension": ".py",
   "mimetype": "text/x-python",
   "name": "python",
   "nbconvert_exporter": "python",
   "pygments_lexer": "ipython3",
   "version": "3.7.5"
  }
 },
 "nbformat": 4,
 "nbformat_minor": 4
}
